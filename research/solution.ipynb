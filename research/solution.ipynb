{
 "cells": [
  {
   "cell_type": "markdown",
   "metadata": {},
   "source": [
    "## Imports"
   ]
  },
  {
   "cell_type": "code",
   "execution_count": 1,
   "metadata": {},
   "outputs": [
    {
     "name": "stderr",
     "output_type": "stream",
     "text": [
      "c:\\Users\\timmy_3aupohg\\anaconda3\\envs\\hidro_app\\Lib\\site-packages\\pinecone\\data\\index.py:1: TqdmWarning: IProgress not found. Please update jupyter and ipywidgets. See https://ipywidgets.readthedocs.io/en/stable/user_install.html\n",
      "  from tqdm.autonotebook import tqdm\n"
     ]
    }
   ],
   "source": [
    "import os\n",
    "from langchain.embeddings import HuggingFaceEmbeddings\n",
    "from pinecone import Pinecone\n",
    "from langchain_pinecone import PineconeVectorStore\n",
    "from dotenv import load_dotenv\n",
    "from langchain_groq import ChatGroq\n",
    "from langchain_core.output_parsers import StrOutputParser\n",
    "from langchain_core.prompts.prompt import PromptTemplate\n",
    "from loguru import logger\n",
    "\n",
    "load_dotenv()\n",
    "\n",
    "os.environ['GROQ_API_KEY'] = os.getenv(\"GROQ_API_KEY\")"
   ]
  },
  {
   "cell_type": "markdown",
   "metadata": {},
   "source": [
    "## Embeddings"
   ]
  },
  {
   "cell_type": "code",
   "execution_count": 2,
   "metadata": {},
   "outputs": [
    {
     "name": "stderr",
     "output_type": "stream",
     "text": [
      "C:\\Users\\timmy_3aupohg\\AppData\\Local\\Temp\\ipykernel_22704\\3401734470.py:1: LangChainDeprecationWarning: The class `HuggingFaceEmbeddings` was deprecated in LangChain 0.2.2 and will be removed in 1.0. An updated version of the class exists in the :class:`~langchain-huggingface package and should be used instead. To use it run `pip install -U :class:`~langchain-huggingface` and import as `from :class:`~langchain_huggingface import HuggingFaceEmbeddings``.\n",
      "  embeddings = HuggingFaceEmbeddings(model_name=\"all-MiniLM-L6-v2\")\n"
     ]
    }
   ],
   "source": [
    "embeddings = HuggingFaceEmbeddings(model_name=\"all-MiniLM-L6-v2\")"
   ]
  },
  {
   "cell_type": "markdown",
   "metadata": {},
   "source": [
    "## VecDB Setup"
   ]
  },
  {
   "cell_type": "code",
   "execution_count": 3,
   "metadata": {},
   "outputs": [],
   "source": [
    "PINECONE_API_KEY = os.environ.get('PINECONE_API_KEY')\n",
    "pc = Pinecone(api_key=PINECONE_API_KEY)\n",
    "index_name = \"medicalbot\"\n",
    "index = pc.Index(index_name)"
   ]
  },
  {
   "cell_type": "code",
   "execution_count": 4,
   "metadata": {},
   "outputs": [],
   "source": [
    "vector_store = PineconeVectorStore(index=index, embedding=embeddings)"
   ]
  },
  {
   "cell_type": "code",
   "execution_count": 5,
   "metadata": {},
   "outputs": [],
   "source": [
    "def search_db(user_query: str) -> list:\n",
    "    sim_docs =[]\n",
    "    result = vector_store.similarity_search_with_score(\n",
    "    user_query, k=3\n",
    "    )\n",
    "    for doc in result:\n",
    "        sim_docs.append(doc[0].page_content)\n",
    "    \n",
    "    return sim_docs    "
   ]
  },
  {
   "cell_type": "code",
   "execution_count": 6,
   "metadata": {},
   "outputs": [],
   "source": [
    "search = search_db(user_query=\"What is candidiasis?\")"
   ]
  },
  {
   "cell_type": "code",
   "execution_count": 7,
   "metadata": {},
   "outputs": [
    {
     "data": {
      "text/plain": [
       "['Candidiasis\\nThis patient’s tongue is infected with candidiasis.(Photo-\\ngraph by Edward H. Gill, Custom Medical Stock Photo. Repro-\\nduced by permission.)\\nGEM -0625 to 1002 - C  10/22/03 6:10 PM  Page 646',\n",
       " 'teristic forms of yeasts at various stages in the lifecycle.\\nFungal blood cultures should be taken for patients\\nsuspected of having deep organ candidiasis. Tissue biop-\\nsy may be needed for a definitive diagnosis.\\nTreatment\\nV aginal candidiasis\\nIn most cases, vaginal candidiasis can be treated\\nsuccessfully with a variety of over-the-counter antifungal\\ncreams or suppositories. These include Monistat, Gyne-\\nLotrimin, and Mycelex. However, infections often recur.',\n",
       " 'of which increase a patient’s susceptibility to infection.\\nDescription\\nV aginal candidiasis\\nOver one million women in the United States devel-\\nop vaginal yeast infections each year. It is not life-threat-\\nening, but it can be uncomfortable and frustrating.\\nOral candidiasis\\nThis disorder, also known as thrush, causes white,\\ncurd-like patches in the mouth or throat.\\nGALE ENCYCLOPEDIA OF MEDICINE 2 645\\nCandidiasis\\nGEM -0625 to 1002 - C  10/22/03 6:10 PM  Page 645']"
      ]
     },
     "execution_count": 7,
     "metadata": {},
     "output_type": "execute_result"
    }
   ],
   "source": [
    "search"
   ]
  },
  {
   "cell_type": "markdown",
   "metadata": {},
   "source": [
    "## LLM Setup"
   ]
  },
  {
   "cell_type": "code",
   "execution_count": 8,
   "metadata": {},
   "outputs": [],
   "source": [
    "# ---------------------------- LLM --------------------------------------\n",
    "llm = ChatGroq(model_name=\"llama-3.3-70b-versatile\", temperature=0.5)"
   ]
  },
  {
   "cell_type": "code",
   "execution_count": 20,
   "metadata": {},
   "outputs": [],
   "source": [
    "def medicalbot_ai(user_query: str, doc_list: list) -> str:\n",
    "    template = \"\"\"\n",
    "    You are a medical consultant AI chatbot. Your role is to provide accurate and reliable answers to user questions based on the provided documents. Use the information from the `doc_list` to address the `user_query` thoroughly and correctly. Ensure that your response is:\n",
    "\n",
    "    - **Accurate:** Base your answers solely on the information in the provided documents.\n",
    "    - **Conversational:** Maintain a friendly and approachable tone.\n",
    "    - **Mature and Consultancy-Oriented:** Present information in a professional and trustworthy manner.\n",
    "\n",
    "    **Inputs:**\n",
    "    1. `user_query`: {user_query} The question posed by the user.\n",
    "    2. `doc_list`: {doc_list} A list of documents containing relevant information related to the user's question.\n",
    "\n",
    "    **Instructions:**\n",
    "    - Analyze the `user_query` and identify the key information needed to answer it.\n",
    "    - Review the `doc_list` to find relevant information that addresses the query.\n",
    "    - Construct a response that is clear, concise, and directly answers the user's question using the information from the documents.\n",
    "    - Avoid introducing information not present in the `doc_list`.\n",
    "    - If the `user_query` have nothing similar to what is in the `doc_list`, return document not found or something in an apologetic way, tell the user to ask for something related to the context.\n",
    "    - If the  `user_query` is an empty string, respond with \"Please provide a valid query.\".\n",
    "    - Maintain a tone that is both professional and empathetic, suitable for a consultancy setting.\n",
    "    \n",
    "    Return the answer as the only output. \n",
    "    Always make sure that you're returning the answer without any explanation. \n",
    "    The output should be the answer alone.\n",
    "    Always return this: \"Please provide a valid query.\" for empty query.\n",
    "    \"\"\"\n",
    "    question_prompt = PromptTemplate(input_variables=[\"user_query\", \"doc_list\"], template=template)\n",
    "    initiator_router = question_prompt | llm | StrOutputParser()\n",
    "    output = initiator_router.invoke({\"user_query\":user_query, \"doc_list\":doc_list})\n",
    "    return output"
   ]
  },
  {
   "cell_type": "code",
   "execution_count": 10,
   "metadata": {},
   "outputs": [],
   "source": [
    "answer_1 = medicalbot_ai(user_query=\"What is Candidiasis?\", doc_list=search)"
   ]
  },
  {
   "cell_type": "code",
   "execution_count": 11,
   "metadata": {},
   "outputs": [
    {
     "name": "stdout",
     "output_type": "stream",
     "text": [
      "Candidiasis is an infection caused by yeast, with various forms, including vaginal candidiasis, which affects over one million women in the United States each year, and oral candidiasis, also known as thrush, which causes white, curd-like patches in the mouth or throat. It is not life-threatening but can be uncomfortable and frustrating. Treatment for vaginal candidiasis often involves over-the-counter antifungal creams or suppositories, such as Monistat, Gynelotrimin, and Mycelex, while deep organ candidiasis may require fungal blood cultures and tissue biopsy for a definitive diagnosis.\n"
     ]
    }
   ],
   "source": [
    "print(answer_1)"
   ]
  },
  {
   "cell_type": "markdown",
   "metadata": {},
   "source": [
    "## Bringing all together"
   ]
  },
  {
   "cell_type": "code",
   "execution_count": 22,
   "metadata": {},
   "outputs": [],
   "source": [
    "def medical_chatbot(user_query: str)-> str:\n",
    "    logger.info(\"Searching for similar Docs in the Vec DB\")\n",
    "    doc_list = search_db(user_query=user_query)\n",
    "    logger.info(\"Calling the medicalbot ai to get answer\")\n",
    "    answer = medicalbot_ai(user_query=user_query, doc_list=doc_list)\n",
    "    logger.info(\"Returning the Final Answer\")\n",
    "    return answer"
   ]
  },
  {
   "cell_type": "code",
   "execution_count": 23,
   "metadata": {},
   "outputs": [],
   "source": [
    "question_1 = \"What is Candidiasis?\"\n",
    "question_2 = \"what is Carpal tunnel syndrome?\"\n",
    "question_3 = \"what is the treatment of Carpal tunnel syndrome?\"\n",
    "question_4 = \"What is the treatment of Candidiasis?\""
   ]
  },
  {
   "cell_type": "code",
   "execution_count": 24,
   "metadata": {},
   "outputs": [
    {
     "name": "stderr",
     "output_type": "stream",
     "text": [
      "\u001b[32m2025-01-04 13:26:38.710\u001b[0m | \u001b[1mINFO    \u001b[0m | \u001b[36m__main__\u001b[0m:\u001b[36mmedical_chatbot\u001b[0m:\u001b[36m2\u001b[0m - \u001b[1mSearching for similar Docs in the Vec DB\u001b[0m\n",
      "\u001b[32m2025-01-04 13:26:41.576\u001b[0m | \u001b[1mINFO    \u001b[0m | \u001b[36m__main__\u001b[0m:\u001b[36mmedical_chatbot\u001b[0m:\u001b[36m4\u001b[0m - \u001b[1mCalling the medicalbot ai to get answer\u001b[0m\n",
      "\u001b[32m2025-01-04 13:26:42.930\u001b[0m | \u001b[1mINFO    \u001b[0m | \u001b[36m__main__\u001b[0m:\u001b[36mmedical_chatbot\u001b[0m:\u001b[36m6\u001b[0m - \u001b[1mReturning the Final Answer\u001b[0m\n"
     ]
    },
    {
     "name": "stdout",
     "output_type": "stream",
     "text": [
      "Candidiasis is an infection caused by yeast, and it can manifest in different forms, such as vaginal candidiasis, which is a common condition affecting over one million women in the United States each year, and oral candidiasis, also known as thrush, which causes white, curd-like patches in the mouth or throat. It is not life-threatening but can be uncomfortable and frustrating. Treatment for vaginal candidiasis often involves over-the-counter antifungal creams or suppositories, while deep organ candidiasis may require more invasive diagnostic procedures like fungal blood cultures and tissue biopsies.\n"
     ]
    }
   ],
   "source": [
    "answer_1 = medical_chatbot(user_query=question_1)\n",
    "print(answer_1)"
   ]
  },
  {
   "cell_type": "code",
   "execution_count": 15,
   "metadata": {},
   "outputs": [
    {
     "name": "stderr",
     "output_type": "stream",
     "text": [
      "\u001b[32m2025-01-04 13:18:17.161\u001b[0m | \u001b[1mINFO    \u001b[0m | \u001b[36m__main__\u001b[0m:\u001b[36mmedical_chatbot\u001b[0m:\u001b[36m2\u001b[0m - \u001b[1mSearching for similar Docs in the Vec DB\u001b[0m\n",
      "\u001b[32m2025-01-04 13:18:17.409\u001b[0m | \u001b[1mINFO    \u001b[0m | \u001b[36m__main__\u001b[0m:\u001b[36mmedical_chatbot\u001b[0m:\u001b[36m4\u001b[0m - \u001b[1mCalling the medicalbot ai to get answer\u001b[0m\n",
      "\u001b[32m2025-01-04 13:18:18.213\u001b[0m | \u001b[1mINFO    \u001b[0m | \u001b[36m__main__\u001b[0m:\u001b[36mmedical_chatbot\u001b[0m:\u001b[36m6\u001b[0m - \u001b[1mReturning the Final Answer\u001b[0m\n"
     ]
    },
    {
     "name": "stdout",
     "output_type": "stream",
     "text": [
      "Carpal tunnel syndrome is a disorder caused by compression at the wrist of the median nerve supplying the hand, causing numbness and tingling. The carpal tunnel is an area in the wrist where the bones and ligaments create a small passageway for the median nerve, which is responsible for both sensation and movement in the hand, particularly the thumb and first three fingers. When the median nerve is compressed, an individual's hand will feel as if it has \"fallen asleep\" or is numb and tingly.\n"
     ]
    }
   ],
   "source": [
    "answer_2 = medical_chatbot(user_query=question_2)\n",
    "print(answer_2)"
   ]
  },
  {
   "cell_type": "code",
   "execution_count": 16,
   "metadata": {},
   "outputs": [
    {
     "name": "stderr",
     "output_type": "stream",
     "text": [
      "\u001b[32m2025-01-04 13:18:18.230\u001b[0m | \u001b[1mINFO    \u001b[0m | \u001b[36m__main__\u001b[0m:\u001b[36mmedical_chatbot\u001b[0m:\u001b[36m2\u001b[0m - \u001b[1mSearching for similar Docs in the Vec DB\u001b[0m\n",
      "\u001b[32m2025-01-04 13:18:18.600\u001b[0m | \u001b[1mINFO    \u001b[0m | \u001b[36m__main__\u001b[0m:\u001b[36mmedical_chatbot\u001b[0m:\u001b[36m4\u001b[0m - \u001b[1mCalling the medicalbot ai to get answer\u001b[0m\n",
      "\u001b[32m2025-01-04 13:18:19.635\u001b[0m | \u001b[1mINFO    \u001b[0m | \u001b[36m__main__\u001b[0m:\u001b[36mmedical_chatbot\u001b[0m:\u001b[36m6\u001b[0m - \u001b[1mReturning the Final Answer\u001b[0m\n"
     ]
    },
    {
     "name": "stdout",
     "output_type": "stream",
     "text": [
      "The treatment of Carpal tunnel syndrome may involve controlling the symptoms with splinting and anti-inflammatory agents. In more advanced cases, injection of steroids into the wrist to decrease inflammation may be necessary. For the most severe cases, surgery may be required to decrease the compression of the median nerve and restore its normal function, which involves cutting the ligament that crosses the wrist, allowing the median nerve more room and decreasing compression. This surgery is often performed on an outpatient basis, with about 95% of people experiencing complete cessation of symptoms after the procedure.\n"
     ]
    }
   ],
   "source": [
    "answer_3 = medical_chatbot(user_query=question_3)\n",
    "print(answer_3)"
   ]
  },
  {
   "cell_type": "code",
   "execution_count": 17,
   "metadata": {},
   "outputs": [
    {
     "name": "stderr",
     "output_type": "stream",
     "text": [
      "\u001b[32m2025-01-04 13:18:19.672\u001b[0m | \u001b[1mINFO    \u001b[0m | \u001b[36m__main__\u001b[0m:\u001b[36mmedical_chatbot\u001b[0m:\u001b[36m2\u001b[0m - \u001b[1mSearching for similar Docs in the Vec DB\u001b[0m\n",
      "\u001b[32m2025-01-04 13:18:20.174\u001b[0m | \u001b[1mINFO    \u001b[0m | \u001b[36m__main__\u001b[0m:\u001b[36mmedical_chatbot\u001b[0m:\u001b[36m4\u001b[0m - \u001b[1mCalling the medicalbot ai to get answer\u001b[0m\n",
      "\u001b[32m2025-01-04 13:18:21.511\u001b[0m | \u001b[1mINFO    \u001b[0m | \u001b[36m__main__\u001b[0m:\u001b[36mmedical_chatbot\u001b[0m:\u001b[36m6\u001b[0m - \u001b[1mReturning the Final Answer\u001b[0m\n"
     ]
    },
    {
     "name": "stdout",
     "output_type": "stream",
     "text": [
      "The treatment of Candidiasis involves removing any catheters present in the patient and starting antifungal chemotherapy to prevent the spread of the disease. The choice of antifungal drug should be based on the patient's specific history and defense status. For vaginal candidiasis, over-the-counter antifungal creams or suppositories such as Monistat, Gyne-Lotrimin, and Mycelex can be used. In some cases, prescription antifungal drugs like terconazole may be necessary. For recurrent infections, women may need to take antifungal drugs on a preventive basis. Additionally, home remedies like vinegar douches or insertion of a paste made from Lactobacillus acidophilus powder into the vagina may be used. In cases of deep organ candidiasis, fungal blood cultures and tissue biopsies may be needed for a definitive diagnosis, and treatment should be tailored accordingly.\n"
     ]
    }
   ],
   "source": [
    "answer_4 = medical_chatbot(user_query=question_4)\n",
    "print(answer_4)"
   ]
  },
  {
   "cell_type": "code",
   "execution_count": 18,
   "metadata": {},
   "outputs": [
    {
     "name": "stderr",
     "output_type": "stream",
     "text": [
      "\u001b[32m2025-01-04 13:18:21.531\u001b[0m | \u001b[1mINFO    \u001b[0m | \u001b[36m__main__\u001b[0m:\u001b[36mmedical_chatbot\u001b[0m:\u001b[36m2\u001b[0m - \u001b[1mSearching for similar Docs in the Vec DB\u001b[0m\n",
      "\u001b[32m2025-01-04 13:18:21.909\u001b[0m | \u001b[1mINFO    \u001b[0m | \u001b[36m__main__\u001b[0m:\u001b[36mmedical_chatbot\u001b[0m:\u001b[36m4\u001b[0m - \u001b[1mCalling the medicalbot ai to get answer\u001b[0m\n",
      "\u001b[32m2025-01-04 13:18:22.723\u001b[0m | \u001b[1mINFO    \u001b[0m | \u001b[36m__main__\u001b[0m:\u001b[36mmedical_chatbot\u001b[0m:\u001b[36m6\u001b[0m - \u001b[1mReturning the Final Answer\u001b[0m\n"
     ]
    },
    {
     "name": "stdout",
     "output_type": "stream",
     "text": [
      "I'm afraid I couldn't find any information related to \"Deep Learning\" in the provided documents. It seems that the documents are focused on medical terminology and concepts, and do not cover topics related to artificial intelligence or machine learning. If you have any questions related to the medical field, I'd be happy to try and assist you. Please feel free to ask a question that's more relevant to the context of the documents, and I'll do my best to provide a helpful response.\n"
     ]
    }
   ],
   "source": [
    "test_5 = medical_chatbot(\"What is Deep Learning?\")\n",
    "print(test_5)"
   ]
  },
  {
   "cell_type": "code",
   "execution_count": 21,
   "metadata": {},
   "outputs": [
    {
     "name": "stderr",
     "output_type": "stream",
     "text": [
      "\u001b[32m2025-01-04 13:19:18.152\u001b[0m | \u001b[1mINFO    \u001b[0m | \u001b[36m__main__\u001b[0m:\u001b[36mmedical_chatbot\u001b[0m:\u001b[36m2\u001b[0m - \u001b[1mSearching for similar Docs in the Vec DB\u001b[0m\n"
     ]
    },
    {
     "name": "stderr",
     "output_type": "stream",
     "text": [
      "\u001b[32m2025-01-04 13:19:18.440\u001b[0m | \u001b[1mINFO    \u001b[0m | \u001b[36m__main__\u001b[0m:\u001b[36mmedical_chatbot\u001b[0m:\u001b[36m4\u001b[0m - \u001b[1mCalling the medicalbot ai to get answer\u001b[0m\n",
      "\u001b[32m2025-01-04 13:19:19.242\u001b[0m | \u001b[1mINFO    \u001b[0m | \u001b[36m__main__\u001b[0m:\u001b[36mmedical_chatbot\u001b[0m:\u001b[36m6\u001b[0m - \u001b[1mReturning the Final Answer\u001b[0m\n"
     ]
    },
    {
     "name": "stdout",
     "output_type": "stream",
     "text": [
      "Please provide a valid query.\n"
     ]
    }
   ],
   "source": [
    "test_5 = medical_chatbot(\"\")\n",
    "print(test_5)"
   ]
  },
  {
   "cell_type": "code",
   "execution_count": null,
   "metadata": {},
   "outputs": [],
   "source": []
  }
 ],
 "metadata": {
  "kernelspec": {
   "display_name": "hidro_app",
   "language": "python",
   "name": "python3"
  },
  "language_info": {
   "codemirror_mode": {
    "name": "ipython",
    "version": 3
   },
   "file_extension": ".py",
   "mimetype": "text/x-python",
   "name": "python",
   "nbconvert_exporter": "python",
   "pygments_lexer": "ipython3",
   "version": "3.11.11"
  }
 },
 "nbformat": 4,
 "nbformat_minor": 2
}
